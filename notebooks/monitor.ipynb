{
 "cells": [
  {
   "cell_type": "markdown",
   "id": "silver-mambo",
   "metadata": {},
   "source": [
    "Start a loop by working on a single object\n",
    "\n",
    "checkpoint = checkpoints[0]\n",
    "\n",
    "use a default dict\n"
   ]
  },
  {
   "cell_type": "code",
   "execution_count": 11,
   "id": "north-consultancy",
   "metadata": {},
   "outputs": [],
   "source": [
    "import json\n",
    "from collections import defaultdict\n",
    "\n",
    "from pathlib import Path\n",
    "\n",
    "from sac.play import *\n",
    "\n",
    "checkpoints = load_checkpoints()\n",
    "results = checkpoint_pipeline(checkpoints)"
   ]
  },
  {
   "cell_type": "code",
   "execution_count": 12,
   "id": "phantom-isolation",
   "metadata": {},
   "outputs": [
    {
     "data": {
      "text/plain": [
       "defaultdict(list,\n",
       "            {'episode-reward': [-151.43211197271322,\n",
       "              -313.4153452502383,\n",
       "              165.71354213851097,\n",
       "              -38.49571525799909,\n",
       "              -39.543188418070585,\n",
       "              -114.80194156851428,\n",
       "              -109.89321216958236],\n",
       "             'checkpoint': [PosixPath('/Users/adam/git/sac/experiments/results/lunar/run-1/checkpoints/test-episode-20'),\n",
       "              PosixPath('/Users/adam/git/sac/experiments/results/lunar/run-1/checkpoints/test-episode-10'),\n",
       "              PosixPath('/Users/adam/git/sac/experiments/results/lunar/run-1/checkpoints/test-episode-50'),\n",
       "              PosixPath('/Users/adam/git/sac/experiments/results/lunar/run-1/checkpoints/test-episode-60'),\n",
       "              PosixPath('/Users/adam/git/sac/experiments/results/lunar/run-1/checkpoints/test-episode-70'),\n",
       "              PosixPath('/Users/adam/git/sac/experiments/results/lunar/run-1/checkpoints/test-episode-40'),\n",
       "              PosixPath('/Users/adam/git/sac/experiments/results/lunar/run-1/checkpoints/test-episode-30')]})"
      ]
     },
     "execution_count": 12,
     "metadata": {},
     "output_type": "execute_result"
    }
   ],
   "source": [
    "results"
   ]
  },
  {
   "cell_type": "code",
   "execution_count": null,
   "id": "every-character",
   "metadata": {},
   "outputs": [],
   "source": []
  }
 ],
 "metadata": {
  "kernelspec": {
   "display_name": "Python 3",
   "language": "python",
   "name": "python3"
  },
  "language_info": {
   "codemirror_mode": {
    "name": "ipython",
    "version": 3
   },
   "file_extension": ".py",
   "mimetype": "text/x-python",
   "name": "python",
   "nbconvert_exporter": "python",
   "pygments_lexer": "ipython3",
   "version": "3.7.6"
  }
 },
 "nbformat": 4,
 "nbformat_minor": 5
}
